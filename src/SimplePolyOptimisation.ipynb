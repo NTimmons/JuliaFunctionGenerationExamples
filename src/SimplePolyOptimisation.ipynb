{
 "cells": [
  {
   "cell_type": "markdown",
   "metadata": {},
   "source": [
    "# Standard Implementations\n",
    "\n",
    "Here we can see two very similar implementations of:\n",
    "\n",
    "y = a1 + (a2&ast;x) + (a3&ast;x^2)\n",
    "\n",
    "The first uses an array of weights and the second takes each weight as an individual input and the third is a fixed value implementation that only works with one set of weights\n",
    "\n",
    "This results in vastly difference performance because when we access an array we need to get the value from the index which is itself arithmetic operations."
   ]
  },
  {
   "cell_type": "code",
   "execution_count": 26,
   "metadata": {},
   "outputs": [
    {
     "data": {
      "text/plain": [
       "SimplePolyFixed (generic function with 1 method)"
      ]
     },
     "execution_count": 26,
     "metadata": {},
     "output_type": "execute_result"
    }
   ],
   "source": [
    "# Array Implementation\n",
    "function SimplePoly(x, weights)\n",
    "    weights[1] + (weights[2] * x) + (weights[3]* x*x)\n",
    "end\n",
    "\n",
    "# Scalar Implementation\n",
    "function SimplePoly(x, a1,a2,a3)\n",
    "    a1 + (a2 * x) + (a3* x*x)\n",
    "end\n",
    "\n",
    "# Hard Corded Implementation\n",
    "function SimplePolyFixed(x)\n",
    "    0.2 + (0.5 * x) + (1.2* x*x)\n",
    "end"
   ]
  },
  {
   "cell_type": "code",
   "execution_count": 27,
   "metadata": {},
   "outputs": [
    {
     "data": {
      "text/plain": [
       "TestArray (generic function with 1 method)"
      ]
     },
     "execution_count": 27,
     "metadata": {},
     "output_type": "execute_result"
    }
   ],
   "source": [
    "using BenchmarkTools\n",
    "xInputs = rand(1000000)\n",
    "\n",
    "function TestFixed()\n",
    "    for x in xInputs\n",
    "        SimplePolyFixed(x)\n",
    "    end\n",
    "    \"Done\"\n",
    "end\n",
    "\n",
    "function TestScalar()\n",
    "    for x in xInputs\n",
    "        SimplePoly(x, 0.2,0.5,1.2)\n",
    "    end\n",
    "    \"Done\"\n",
    "end\n",
    "\n",
    "function TestArray()\n",
    "    for x in xInputs\n",
    "        SimplePoly(x, [0.2,0.5,1.2])\n",
    "    end\n",
    "    \"Done\"\n",
    "end"
   ]
  },
  {
   "cell_type": "code",
   "execution_count": 22,
   "metadata": {},
   "outputs": [
    {
     "data": {
      "text/plain": [
       "BenchmarkTools.Trial: \n",
       "  memory estimate:  76.29 MiB\n",
       "  allocs estimate:  3999490\n",
       "  --------------\n",
       "  minimum time:     56.712 ms (4.48% GC)\n",
       "  median time:      57.769 ms (5.22% GC)\n",
       "  mean time:        58.433 ms (6.16% GC)\n",
       "  maximum time:     104.227 ms (39.59% GC)\n",
       "  --------------\n",
       "  samples:          86\n",
       "  evals/sample:     1"
      ]
     },
     "execution_count": 22,
     "metadata": {},
     "output_type": "execute_result"
    }
   ],
   "source": [
    "@benchmark TestFixed()"
   ]
  },
  {
   "cell_type": "code",
   "execution_count": 29,
   "metadata": {},
   "outputs": [
    {
     "data": {
      "text/plain": [
       "BenchmarkTools.Trial: \n",
       "  memory estimate:  76.29 MiB\n",
       "  allocs estimate:  3999490\n",
       "  --------------\n",
       "  minimum time:     61.759 ms (4.76% GC)\n",
       "  median time:      64.124 ms (5.64% GC)\n",
       "  mean time:        64.662 ms (6.13% GC)\n",
       "  maximum time:     112.196 ms (38.66% GC)\n",
       "  --------------\n",
       "  samples:          78\n",
       "  evals/sample:     1"
      ]
     },
     "execution_count": 29,
     "metadata": {},
     "output_type": "execute_result"
    }
   ],
   "source": [
    "@benchmark TestScalar()"
   ]
  },
  {
   "cell_type": "code",
   "execution_count": 25,
   "metadata": {},
   "outputs": [
    {
     "data": {
      "text/plain": [
       "BenchmarkTools.Trial: \n",
       "  memory estimate:  183.10 MiB\n",
       "  allocs estimate:  4999490\n",
       "  --------------\n",
       "  minimum time:     82.357 ms (9.63% GC)\n",
       "  median time:      83.173 ms (10.17% GC)\n",
       "  mean time:        84.161 ms (11.07% GC)\n",
       "  maximum time:     128.946 ms (35.78% GC)\n",
       "  --------------\n",
       "  samples:          60\n",
       "  evals/sample:     1"
      ]
     },
     "execution_count": 25,
     "metadata": {},
     "output_type": "execute_result"
    }
   ],
   "source": [
    "@benchmark TestArray()"
   ]
  },
  {
   "cell_type": "markdown",
   "metadata": {},
   "source": [
    "So we can see very clearly that the single inputs are much much faster without having to extract values from an array and the fixed function is even better.\n",
    "\n",
    "(Note: Normally we would work in an array fashion and not pull back to scalar as we are here, but as a demonstration of a use-case this will do for simplicity.)\n",
    "\n",
    "### So why is it faster?\n",
    "\n",
    "Using @code_llvm we are able to print the generated LLVM IR from our functions (we could also use @code_native to get the assembly but LLVM IR is much more readable). As we can see the less general that we become the simpler the code gets. The array based implementation has lots of code to extract values from indices which the others simply don't need and the fixed implementation is able to read from constants rather than read in the weight values.\n",
    "\n"
   ]
  },
  {
   "cell_type": "code",
   "execution_count": 30,
   "metadata": {
    "collapsed": true
   },
   "outputs": [
    {
     "name": "stdout",
     "output_type": "stream",
     "text": [
      "\n",
      "; Function SimplePoly\n",
      "; Location: In[26]:3\n",
      "; Function Attrs: uwtable\n",
      "define double @julia_SimplePoly_36381(double, %jl_value_t addrspace(10)* nonnull align 16 dereferenceable(40)) #0 {\n",
      "top:\n",
      "; Function getindex; {\n",
      "; Location: array.jl:731\n",
      "  %2 = addrspacecast %jl_value_t addrspace(10)* %1 to %jl_value_t addrspace(11)*\n",
      "  %3 = bitcast %jl_value_t addrspace(11)* %2 to %jl_array_t addrspace(11)*\n",
      "  %4 = getelementptr inbounds %jl_array_t, %jl_array_t addrspace(11)* %3, i64 0, i32 1\n",
      "  %5 = load i64, i64 addrspace(11)* %4, align 8\n",
      "  switch i64 %5, label %idxend2 [\n",
      "    i64 0, label %oob\n",
      "    i64 1, label %oob1\n",
      "  ]\n",
      "\n",
      "oob:                                              ; preds = %top\n",
      "  %6 = alloca i64, align 8\n",
      "  store i64 1, i64* %6, align 8\n",
      "  %7 = addrspacecast %jl_value_t addrspace(10)* %1 to %jl_value_t addrspace(12)*\n",
      "  call void @jl_bounds_error_ints(%jl_value_t addrspace(12)* %7, i64* nonnull %6, i64 1)\n",
      "  unreachable\n",
      "\n",
      "oob1:                                             ; preds = %top\n",
      "  %8 = alloca i64, align 8\n",
      "  store i64 2, i64* %8, align 8\n",
      "  %9 = addrspacecast %jl_value_t addrspace(10)* %1 to %jl_value_t addrspace(12)*\n",
      "  call void @jl_bounds_error_ints(%jl_value_t addrspace(12)* %9, i64* nonnull %8, i64 1)\n",
      "  unreachable\n",
      "\n",
      "idxend2:                                          ; preds = %top\n",
      "  %10 = icmp ugt i64 %5, 2\n",
      "  br i1 %10, label %idxend4, label %oob3\n",
      "\n",
      "oob3:                                             ; preds = %idxend2\n",
      "  %11 = alloca i64, align 8\n",
      "  store i64 3, i64* %11, align 8\n",
      "  %12 = addrspacecast %jl_value_t addrspace(10)* %1 to %jl_value_t addrspace(12)*\n",
      "  call void @jl_bounds_error_ints(%jl_value_t addrspace(12)* %12, i64* nonnull %11, i64 1)\n",
      "  unreachable\n",
      "\n",
      "idxend4:                                          ; preds = %idxend2\n",
      "  %13 = bitcast %jl_value_t addrspace(11)* %2 to double addrspace(13)* addrspace(11)*\n",
      "  %14 = load double addrspace(13)*, double addrspace(13)* addrspace(11)* %13, align 8\n",
      "  %15 = load double, double addrspace(13)* %14, align 8\n",
      "  %16 = getelementptr inbounds double, double addrspace(13)* %14, i64 1\n",
      "  %17 = load double, double addrspace(13)* %16, align 8\n",
      ";}\n",
      "; Function *; {\n",
      "; Location: float.jl:399\n",
      "  %18 = fmul double %17, %0\n",
      ";}\n",
      "; Function getindex; {\n",
      "; Location: array.jl:731\n",
      "  %19 = getelementptr inbounds double, double addrspace(13)* %14, i64 2\n",
      "  %20 = load double, double addrspace(13)* %19, align 8\n",
      ";}\n",
      "; Function *; {\n",
      "; Location: operators.jl:502\n",
      "; Function *; {\n",
      "; Location: float.jl:399\n",
      "  %21 = fmul double %20, %0\n",
      "  %22 = fmul double %21, %0\n",
      ";}}\n",
      "; Function +; {\n",
      "; Location: operators.jl:502\n",
      "; Function +; {\n",
      "; Location: float.jl:395\n",
      "  %23 = fadd double %15, %18\n",
      "  %24 = fadd double %23, %22\n",
      ";}}\n",
      "  ret double %24\n",
      "}\n"
     ]
    }
   ],
   "source": [
    "@code_llvm SimplePoly(1.5, [0.2,0.5,1.2])"
   ]
  },
  {
   "cell_type": "code",
   "execution_count": 31,
   "metadata": {},
   "outputs": [
    {
     "name": "stdout",
     "output_type": "stream",
     "text": [
      "\n",
      "; Function SimplePoly\n",
      "; Location: In[26]:8\n",
      "; Function Attrs: uwtable\n",
      "define double @julia_SimplePoly_36346(double, double, double, double) #0 {\n",
      "top:\n",
      "; Function *; {\n",
      "; Location: float.jl:399\n",
      "  %4 = fmul double %0, %2\n",
      ";}\n",
      "; Function *; {\n",
      "; Location: operators.jl:502\n",
      "; Function *; {\n",
      "; Location: float.jl:399\n",
      "  %5 = fmul double %0, %3\n",
      "  %6 = fmul double %5, %0\n",
      ";}}\n",
      "; Function +; {\n",
      "; Location: operators.jl:502\n",
      "; Function +; {\n",
      "; Location: float.jl:395\n",
      "  %7 = fadd double %4, %1\n",
      "  %8 = fadd double %7, %6\n",
      ";}}\n",
      "  ret double %8\n",
      "}\n"
     ]
    }
   ],
   "source": [
    "@code_llvm SimplePoly(1.5, 0.2,0.5,1.2)"
   ]
  },
  {
   "cell_type": "code",
   "execution_count": 32,
   "metadata": {},
   "outputs": [
    {
     "name": "stdout",
     "output_type": "stream",
     "text": [
      "\n",
      "; Function SimplePolyFixed\n",
      "; Location: In[26]:13\n",
      "; Function Attrs: uwtable\n",
      "define double @julia_SimplePolyFixed_36383(double) #0 {\n",
      "top:\n",
      "; Function *; {\n",
      "; Location: float.jl:399\n",
      "  %1 = fmul double %0, 5.000000e-01\n",
      ";}\n",
      "; Function *; {\n",
      "; Location: operators.jl:502\n",
      "; Function *; {\n",
      "; Location: float.jl:399\n",
      "  %2 = fmul double %0, 1.200000e+00\n",
      "  %3 = fmul double %2, %0\n",
      ";}}\n",
      "; Function +; {\n",
      "; Location: operators.jl:502\n",
      "; Function +; {\n",
      "; Location: float.jl:395\n",
      "  %4 = fadd double %1, 2.000000e-01\n",
      "  %5 = fadd double %4, %3\n",
      ";}}\n",
      "  ret double %5\n",
      "}\n"
     ]
    }
   ],
   "source": [
    "@code_llvm SimplePolyFixed(1.5)"
   ]
  },
  {
   "cell_type": "markdown",
   "metadata": {},
   "source": [
    "# Specialising Functions\n",
    "\n",
    "So now let's picture this as a problem in a real-world solution. We are given an array for the weights and want to call SimplePoly for a million values of x in different places. Submitting the array as the weights is slow, but extracting the scalar values once and passing them around is not very elegant and still wont get the performance of the fixed implementation.\n",
    "\n",
    "We could instead generate a new version of the function with the values from the array compiled in the function like this:"
   ]
  },
  {
   "cell_type": "code",
   "execution_count": 12,
   "metadata": {},
   "outputs": [
    {
     "data": {
      "text/plain": [
       "#7 (generic function with 1 method)"
      ]
     },
     "execution_count": 12,
     "metadata": {},
     "output_type": "execute_result"
    }
   ],
   "source": [
    "function GetSpecialisedFunction(weights)   \n",
    "    @eval function(x) \n",
    "                        $(weights[1]) + \n",
    "                        ($(weights[2]) * x) +\n",
    "                        ($(weights[3]) * x*x)\n",
    "          end\n",
    "end\n",
    "\n",
    "const bakedInFunc = GetSpecialisedFunction(givenWeights)"
   ]
  },
  {
   "cell_type": "markdown",
   "metadata": {},
   "source": [
    "This gives us a new function that we can call like any other and we can see below from checking the output LLVM IR that the constants are now stored within the function and the output is nearly identical to that of the hand-written hard coded example.\n",
    "\n",
    "(*Note: To get full performance from an internally generated function it best to declare it 'const' this will improve performance by removing checks to ensure that it is still a valid function to call when it is called*)"
   ]
  },
  {
   "cell_type": "code",
   "execution_count": 34,
   "metadata": {},
   "outputs": [
    {
     "name": "stdout",
     "output_type": "stream",
     "text": [
      "\n",
      "; Function #7\n",
      "; Location: In[12]:3\n",
      "; Function Attrs: uwtable\n",
      "define double @\"julia_#7_36071\"(double) #0 {\n",
      "top:\n",
      "; Function *; {\n",
      "; Location: float.jl:399\n",
      "  %1 = fmul double %0, 5.000000e-01\n",
      ";}\n",
      "; Function *; {\n",
      "; Location: operators.jl:502\n",
      "; Function *; {\n",
      "; Location: float.jl:399\n",
      "  %2 = fmul double %0, 1.200000e+00\n",
      "  %3 = fmul double %2, %0\n",
      ";}}\n",
      "; Function +; {\n",
      "; Location: operators.jl:502\n",
      "; Function +; {\n",
      "; Location: float.jl:395\n",
      "  %4 = fadd double %1, 2.000000e-01\n",
      "  %5 = fadd double %4, %3\n",
      ";}}\n",
      "  ret double %5\n",
      "}\n"
     ]
    }
   ],
   "source": [
    "@code_llvm bakedInFunc(1.0)"
   ]
  },
  {
   "cell_type": "markdown",
   "metadata": {},
   "source": [
    "If we now benchmark the generated solution we can see that the performance is now the same as the hard-coded function too.\n",
    "\n",
    "We have effectively specialised and vastly improved performance over the standard array implementation"
   ]
  },
  {
   "cell_type": "code",
   "execution_count": 33,
   "metadata": {},
   "outputs": [
    {
     "data": {
      "text/plain": [
       "BenchmarkTools.Trial: \n",
       "  memory estimate:  76.29 MiB\n",
       "  allocs estimate:  3999490\n",
       "  --------------\n",
       "  minimum time:     56.003 ms (4.72% GC)\n",
       "  median time:      58.510 ms (6.33% GC)\n",
       "  mean time:        60.037 ms (7.10% GC)\n",
       "  maximum time:     117.918 ms (43.95% GC)\n",
       "  --------------\n",
       "  samples:          84\n",
       "  evals/sample:     1"
      ]
     },
     "execution_count": 33,
     "metadata": {},
     "output_type": "execute_result"
    }
   ],
   "source": [
    "function TestGenerated()\n",
    "    for x in xInputs\n",
    "        SimplePolyFixed(x)\n",
    "    end\n",
    "    \"Done\"\n",
    "end\n",
    "\n",
    "@benchmark TestGenerated()"
   ]
  }
 ],
 "metadata": {
  "kernelspec": {
   "display_name": "Julia 1.0.1",
   "language": "julia",
   "name": "julia-1.0"
  },
  "language_info": {
   "file_extension": ".jl",
   "mimetype": "application/julia",
   "name": "julia",
   "version": "1.0.1"
  }
 },
 "nbformat": 4,
 "nbformat_minor": 2
}
